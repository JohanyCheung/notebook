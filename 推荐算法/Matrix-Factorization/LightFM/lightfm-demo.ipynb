{
 "cells": [
  {
   "cell_type": "code",
   "execution_count": 1,
   "metadata": {},
   "outputs": [],
   "source": [
    "import codecs\n",
    "import numpy as np\n",
    "import pandas as pd"
   ]
  },
  {
   "cell_type": "code",
   "execution_count": 2,
   "metadata": {},
   "outputs": [],
   "source": [
    "inter_file = \"./data/ml-100k/u.data\""
   ]
  },
  {
   "cell_type": "code",
   "execution_count": 3,
   "metadata": {},
   "outputs": [
    {
     "data": {
      "text/plain": [
       "(100000, 4)"
      ]
     },
     "execution_count": 3,
     "metadata": {},
     "output_type": "execute_result"
    }
   ],
   "source": [
    "data = pd.read_csv(inter_file, delimiter=\"\\t\", header=None)\n",
    "data.columns = [\"user_id\", \"item_id\", \"rating\", \"timestamp\"]\n",
    "data.shape"
   ]
  },
  {
   "cell_type": "code",
   "execution_count": 4,
   "metadata": {},
   "outputs": [
    {
     "data": {
      "text/html": [
       "<div>\n",
       "<style scoped>\n",
       "    .dataframe tbody tr th:only-of-type {\n",
       "        vertical-align: middle;\n",
       "    }\n",
       "\n",
       "    .dataframe tbody tr th {\n",
       "        vertical-align: top;\n",
       "    }\n",
       "\n",
       "    .dataframe thead th {\n",
       "        text-align: right;\n",
       "    }\n",
       "</style>\n",
       "<table border=\"1\" class=\"dataframe\">\n",
       "  <thead>\n",
       "    <tr style=\"text-align: right;\">\n",
       "      <th></th>\n",
       "      <th>user_id</th>\n",
       "      <th>item_id</th>\n",
       "      <th>rating</th>\n",
       "      <th>timestamp</th>\n",
       "    </tr>\n",
       "  </thead>\n",
       "  <tbody>\n",
       "    <tr>\n",
       "      <th>0</th>\n",
       "      <td>196</td>\n",
       "      <td>242</td>\n",
       "      <td>3</td>\n",
       "      <td>881250949</td>\n",
       "    </tr>\n",
       "    <tr>\n",
       "      <th>1</th>\n",
       "      <td>186</td>\n",
       "      <td>302</td>\n",
       "      <td>3</td>\n",
       "      <td>891717742</td>\n",
       "    </tr>\n",
       "    <tr>\n",
       "      <th>2</th>\n",
       "      <td>22</td>\n",
       "      <td>377</td>\n",
       "      <td>1</td>\n",
       "      <td>878887116</td>\n",
       "    </tr>\n",
       "    <tr>\n",
       "      <th>3</th>\n",
       "      <td>244</td>\n",
       "      <td>51</td>\n",
       "      <td>2</td>\n",
       "      <td>880606923</td>\n",
       "    </tr>\n",
       "    <tr>\n",
       "      <th>4</th>\n",
       "      <td>166</td>\n",
       "      <td>346</td>\n",
       "      <td>1</td>\n",
       "      <td>886397596</td>\n",
       "    </tr>\n",
       "  </tbody>\n",
       "</table>\n",
       "</div>"
      ],
      "text/plain": [
       "   user_id  item_id  rating  timestamp\n",
       "0      196      242       3  881250949\n",
       "1      186      302       3  891717742\n",
       "2       22      377       1  878887116\n",
       "3      244       51       2  880606923\n",
       "4      166      346       1  886397596"
      ]
     },
     "execution_count": 4,
     "metadata": {},
     "output_type": "execute_result"
    }
   ],
   "source": [
    "data.head()"
   ]
  },
  {
   "cell_type": "code",
   "execution_count": 5,
   "metadata": {},
   "outputs": [
    {
     "name": "stderr",
     "output_type": "stream",
     "text": [
      "D:\\Tools\\Anaconda3\\lib\\site-packages\\lightfm\\_lightfm_fast.py:9: UserWarning: LightFM was compiled without OpenMP support. Only a single thread will be used.\n",
      "  warnings.warn('LightFM was compiled without OpenMP support. '\n"
     ]
    }
   ],
   "source": [
    "from lightfm.data import Dataset"
   ]
  },
  {
   "cell_type": "code",
   "execution_count": 6,
   "metadata": {},
   "outputs": [],
   "source": [
    "dataset = Dataset()"
   ]
  },
  {
   "cell_type": "code",
   "execution_count": 7,
   "metadata": {},
   "outputs": [],
   "source": [
    "user_array = np.sort(data[\"user_id\"].unique())\n",
    "item_array = np.sort(data[\"item_id\"].unique())"
   ]
  },
  {
   "cell_type": "code",
   "execution_count": 8,
   "metadata": {},
   "outputs": [],
   "source": [
    "dataset.fit(users=user_array, items=item_array)"
   ]
  },
  {
   "cell_type": "code",
   "execution_count": 9,
   "metadata": {},
   "outputs": [
    {
     "data": {
      "text/plain": [
       "(943, 1682)"
      ]
     },
     "execution_count": 9,
     "metadata": {},
     "output_type": "execute_result"
    }
   ],
   "source": [
    "num_users, num_items = dataset.interactions_shape()\n",
    "num_users, num_items"
   ]
  },
  {
   "cell_type": "code",
   "execution_count": 10,
   "metadata": {},
   "outputs": [
    {
     "name": "stdout",
     "output_type": "stream",
     "text": [
      "Wall time: 2min 55s\n"
     ]
    }
   ],
   "source": [
    "%%time\n",
    "interactions, weights = dataset.build_interactions([tuple(data[[\"user_id\", \"item_id\", \"rating\"]].iloc[i, :]) for i in range(data.shape[0])])"
   ]
  },
  {
   "cell_type": "code",
   "execution_count": 11,
   "metadata": {},
   "outputs": [
    {
     "data": {
      "text/plain": [
       "(<943x1682 sparse matrix of type '<class 'numpy.int32'>'\n",
       " \twith 100000 stored elements in COOrdinate format>,\n",
       " <943x1682 sparse matrix of type '<class 'numpy.float32'>'\n",
       " \twith 100000 stored elements in COOrdinate format>)"
      ]
     },
     "execution_count": 11,
     "metadata": {},
     "output_type": "execute_result"
    }
   ],
   "source": [
    "interactions, weights"
   ]
  },
  {
   "cell_type": "code",
   "execution_count": 12,
   "metadata": {},
   "outputs": [
    {
     "data": {
      "text/plain": [
       "(array([[1, 1, 1, ..., 0, 0, 0],\n",
       "        [1, 0, 0, ..., 0, 0, 0],\n",
       "        [0, 0, 0, ..., 0, 0, 0],\n",
       "        ...,\n",
       "        [1, 0, 0, ..., 0, 0, 0],\n",
       "        [0, 0, 0, ..., 0, 0, 0],\n",
       "        [0, 1, 0, ..., 0, 0, 0]]), array([[5., 3., 4., ..., 0., 0., 0.],\n",
       "        [4., 0., 0., ..., 0., 0., 0.],\n",
       "        [0., 0., 0., ..., 0., 0., 0.],\n",
       "        ...,\n",
       "        [5., 0., 0., ..., 0., 0., 0.],\n",
       "        [0., 0., 0., ..., 0., 0., 0.],\n",
       "        [0., 5., 0., ..., 0., 0., 0.]], dtype=float32))"
      ]
     },
     "execution_count": 12,
     "metadata": {},
     "output_type": "execute_result"
    }
   ],
   "source": [
    "interactions.toarray(), weights.toarray()"
   ]
  },
  {
   "cell_type": "code",
   "execution_count": 13,
   "metadata": {},
   "outputs": [],
   "source": [
    "from lightfm import LightFM"
   ]
  },
  {
   "cell_type": "code",
   "execution_count": 14,
   "metadata": {},
   "outputs": [],
   "source": [
    "model = LightFM(loss='warp')"
   ]
  },
  {
   "cell_type": "code",
   "execution_count": 15,
   "metadata": {},
   "outputs": [
    {
     "data": {
      "text/plain": [
       "<lightfm.lightfm.LightFM at 0x2960460e3c8>"
      ]
     },
     "execution_count": 15,
     "metadata": {},
     "output_type": "execute_result"
    }
   ],
   "source": [
    "model.fit(interactions)"
   ]
  },
  {
   "cell_type": "code",
   "execution_count": 16,
   "metadata": {},
   "outputs": [
    {
     "data": {
      "text/plain": [
       "array([[-0.33354998, -0.62071806, -0.5468567 , ..., -0.7395678 ,\n",
       "         0.5305297 ,  0.3459575 ],\n",
       "       [-0.28881025, -0.33182573, -0.3384615 , ..., -0.4324158 ,\n",
       "         0.17360955,  0.547681  ],\n",
       "       [ 0.16587932, -0.21641761, -0.09041465, ..., -0.03192124,\n",
       "         0.20462288,  0.13234344],\n",
       "       ...,\n",
       "       [ 0.14718033,  0.38212344,  0.3142625 , ...,  0.37996686,\n",
       "        -0.32440943, -0.34812057],\n",
       "       [ 0.24773902,  0.1682003 ,  0.25004494, ...,  0.28033793,\n",
       "        -0.30692485, -0.20862225],\n",
       "       [ 0.18793812,  0.31124133,  0.33497822, ...,  0.2797843 ,\n",
       "        -0.33666873, -0.21062063]], dtype=float32)"
      ]
     },
     "execution_count": 16,
     "metadata": {},
     "output_type": "execute_result"
    }
   ],
   "source": [
    "model.item_embeddings"
   ]
  },
  {
   "cell_type": "code",
   "execution_count": 17,
   "metadata": {
    "scrolled": true
   },
   "outputs": [
    {
     "data": {
      "text/plain": [
       "array([[ 0.71564746,  0.02465005, -0.66182977, ...,  0.09512775,\n",
       "        -0.13642725,  0.05216855],\n",
       "       [ 0.4488553 , -0.11205254, -0.2598676 , ...,  0.25055864,\n",
       "        -0.03122658, -0.30726355],\n",
       "       [ 0.06885144, -0.05553475, -0.09711617, ...,  0.24756578,\n",
       "        -0.06330757,  0.08833592],\n",
       "       ...,\n",
       "       [-0.3319892 ,  0.09444311,  0.39592975, ..., -0.14360082,\n",
       "         0.26195526, -0.02470076],\n",
       "       [-0.23962982,  0.1656944 ,  0.36857685, ...,  0.00669156,\n",
       "         0.21060328,  0.05325682],\n",
       "       [-0.38051814,  0.17242694,  0.28419927, ..., -0.10607666,\n",
       "         0.08893774, -0.1112946 ]], dtype=float32)"
      ]
     },
     "execution_count": 17,
     "metadata": {},
     "output_type": "execute_result"
    }
   ],
   "source": [
    "model_weights = LightFM(loss='warp')\n",
    "model_weights.fit(weights)\n",
    "model_weights.item_embeddings"
   ]
  },
  {
   "cell_type": "code",
   "execution_count": 18,
   "metadata": {},
   "outputs": [],
   "source": [
    "from lightfm.datasets import fetch_movielens\n",
    "movielens = fetch_movielens()\n",
    "train, test = movielens['train'], movielens['test']"
   ]
  },
  {
   "cell_type": "code",
   "execution_count": 19,
   "metadata": {},
   "outputs": [],
   "source": [
    "model = LightFM(no_components=10, loss=\"warp\")"
   ]
  },
  {
   "cell_type": "code",
   "execution_count": 20,
   "metadata": {},
   "outputs": [
    {
     "data": {
      "text/plain": [
       "<lightfm.lightfm.LightFM at 0x2960460e588>"
      ]
     },
     "execution_count": 20,
     "metadata": {},
     "output_type": "execute_result"
    }
   ],
   "source": [
    "model.fit(train, epochs=10)"
   ]
  },
  {
   "cell_type": "code",
   "execution_count": 21,
   "metadata": {},
   "outputs": [
    {
     "data": {
      "text/plain": [
       "array([ 19,  32,  60, 116, 154, 159, 170, 188, 201, 264])"
      ]
     },
     "execution_count": 21,
     "metadata": {},
     "output_type": "execute_result"
    }
   ],
   "source": [
    "item_index0 = np.arange(test.shape[1])[np.not_equal(test.tocsr()[0, :].toarray(), 0).ravel()]\n",
    "item_index0"
   ]
  },
  {
   "cell_type": "code",
   "execution_count": 22,
   "metadata": {},
   "outputs": [
    {
     "data": {
      "text/plain": [
       "array([4, 4, 4, 3, 2, 4, 5, 3, 5, 4], dtype=int32)"
      ]
     },
     "execution_count": 22,
     "metadata": {},
     "output_type": "execute_result"
    }
   ],
   "source": [
    "test.tocsr()[0, :].toarray().ravel()[np.not_equal(test.tocsr()[0, :].toarray(), 0).ravel()]"
   ]
  },
  {
   "cell_type": "code",
   "execution_count": 23,
   "metadata": {},
   "outputs": [
    {
     "data": {
      "text/plain": [
       "array([-3.89246869, -3.63163996, -4.02253771, -2.02001739, -3.03168797,\n",
       "       -4.0731883 , -4.02320051, -3.68930364, -1.61427879, -2.43675303])"
      ]
     },
     "execution_count": 23,
     "metadata": {},
     "output_type": "execute_result"
    }
   ],
   "source": [
    "model.predict(0, item_index0)"
   ]
  },
  {
   "cell_type": "code",
   "execution_count": 24,
   "metadata": {},
   "outputs": [],
   "source": [
    "from lightfm.evaluation import auc_score, precision_at_k"
   ]
  },
  {
   "cell_type": "code",
   "execution_count": 25,
   "metadata": {},
   "outputs": [
    {
     "data": {
      "text/plain": [
       "<lightfm.lightfm.LightFM at 0x2960521ab00>"
      ]
     },
     "execution_count": 25,
     "metadata": {},
     "output_type": "execute_result"
    }
   ],
   "source": [
    "model_auc = LightFM(no_components=10, loss=\"bpr\")\n",
    "model_top = LightFM(no_components=10, loss=\"warp\")\n",
    "model_auc.fit(train, epochs=10)\n",
    "model_top.fit(train, epochs=10)"
   ]
  },
  {
   "cell_type": "code",
   "execution_count": 26,
   "metadata": {},
   "outputs": [
    {
     "data": {
      "text/plain": [
       "array([0.7686888 , 0.9528905 , 0.9282106 , 0.9007365 , 0.87563145,\n",
       "       0.8408634 , 0.8459599 , 0.8133522 , 0.80748504, 0.8394044 ,\n",
       "       0.7693873 , 0.83540654, 0.79497045, 0.8580332 , 0.9331756 ,\n",
       "       0.8726059 , 0.9649105 , 0.90237606, 0.92583734, 0.94250226,\n",
       "       0.78079134, 0.8408635 , 0.85553724, 0.86445767, 0.8788904 ,\n",
       "       0.95166016, 0.93405324, 0.8357457 , 0.86230904, 0.81873316,\n",
       "       0.8698439 , 0.97039926, 0.9794879 , 0.92888755, 0.98144376,\n",
       "       0.9306818 , 0.9495735 , 0.8378835 , 0.9880739 , 0.9771634 ,\n",
       "       0.94022924, 0.8818725 , 0.81856525, 0.90145934, 0.95239466,\n",
       "       0.9586646 , 0.9870827 , 0.8811172 , 0.74358714, 0.95580685,\n",
       "       0.9591188 , 0.85334057, 0.9641092 , 0.9622172 , 0.9927643 ,\n",
       "       0.9020776 , 0.884182  , 0.8250704 , 0.8085817 , 0.8962127 ,\n",
       "       0.9861271 , 0.86122996, 0.90163285, 0.8459648 , 0.9078607 ,\n",
       "       0.9634004 , 0.9698554 , 0.951498  , 0.8774878 , 0.8440236 ,\n",
       "       0.904949  , 0.889222  , 0.86744434, 0.97275585, 0.8979756 ,\n",
       "       0.84238267, 0.91173834, 0.93852353, 0.91264504, 0.8914453 ,\n",
       "       0.89380604, 0.82544744, 0.84193134, 0.847333  , 0.8209458 ,\n",
       "       0.9611928 , 0.83667743, 0.96023077, 0.78980094, 0.8296839 ,\n",
       "       0.8299944 , 0.8455888 , 0.9772727 , 0.83640885, 0.861035  ,\n",
       "       0.9593387 , 0.945898  , 0.87224877, 0.81854683, 0.9560715 ,\n",
       "       0.971822  , 0.8045692 , 0.87568444, 0.938014  , 0.97958237,\n",
       "       0.8717012 , 0.9662175 , 0.90415907, 0.90058863, 0.8513326 ,\n",
       "       0.98582566, 0.9730831 , 0.950848  , 0.9497854 , 0.86051077,\n",
       "       0.79280835, 0.8900584 , 0.8710471 , 0.7242984 , 0.9557323 ,\n",
       "       0.83166915, 0.8662194 , 0.8999889 , 0.9841127 , 0.8156246 ,\n",
       "       0.96811515, 0.7880353 , 0.8766769 , 0.97145003, 0.8401855 ,\n",
       "       0.9669073 , 0.8791418 , 0.9642482 , 0.9667666 , 0.85797864,\n",
       "       0.900543  , 0.90930754, 0.9032861 , 0.93341035, 0.98400515,\n",
       "       0.957462  , 0.796918  , 0.9889355 , 0.8096589 , 0.8015348 ,\n",
       "       0.9659777 , 0.98797846, 0.8733309 , 0.9746841 , 0.9453997 ,\n",
       "       0.8528491 , 0.8695094 , 0.9292068 , 0.89882714, 0.98802406,\n",
       "       0.89931756, 0.92467403, 0.79458565, 0.9024098 , 0.7775621 ,\n",
       "       0.89599913, 0.91679907, 0.800802  , 0.96178955, 0.8406137 ,\n",
       "       0.96303827, 0.73925674, 0.9720334 , 0.87246275, 0.9852795 ,\n",
       "       0.98380744, 0.89849854, 0.98098016, 0.78582233, 0.8846734 ,\n",
       "       0.94556206, 0.9033548 , 0.82663   , 0.9469696 , 0.9026486 ,\n",
       "       0.92931455, 0.8928285 , 0.8460774 , 0.7908265 , 0.8476118 ,\n",
       "       0.82274383, 0.91543543, 0.84439677, 0.8201852 , 0.9621081 ,\n",
       "       0.957534  , 0.9456366 , 0.776329  , 0.88306284, 0.56710094,\n",
       "       0.7418069 , 0.8529519 , 0.82898146, 0.9372074 , 0.87357944,\n",
       "       0.8568427 , 0.948146  , 0.9572377 , 0.9153407 , 0.97754496,\n",
       "       0.91936255, 0.8103409 , 0.8960347 , 0.94074476, 0.8382881 ,\n",
       "       0.7369139 , 0.87386525, 0.91363335, 0.907094  , 0.8921009 ,\n",
       "       0.8816818 , 0.9566925 , 0.8814648 , 0.7386486 , 0.9862774 ,\n",
       "       0.83903897, 0.86926454, 0.893158  , 0.6105099 , 0.8931284 ,\n",
       "       0.88868773, 0.9112862 , 0.88406503, 0.9820096 , 0.9005877 ,\n",
       "       0.9830259 , 0.8599652 , 0.8735776 , 0.83258945, 0.84426945,\n",
       "       0.86537784, 0.95729285, 0.9737    , 0.8959921 , 0.96706927,\n",
       "       0.97644836, 0.9295455 , 0.808211  , 0.7838057 , 0.862026  ,\n",
       "       0.86056453, 0.9170919 , 0.9075421 , 0.8912103 , 0.8123008 ,\n",
       "       0.8277158 , 0.9178499 , 0.8548698 , 0.87372166, 0.8763717 ,\n",
       "       0.8514686 , 0.8646237 , 0.994331  , 0.888079  , 0.94364506,\n",
       "       0.94326085, 0.8142645 , 0.85597044, 0.81130594, 0.96579266,\n",
       "       0.97723186, 0.89071596, 0.85945493, 0.7709159 , 0.73693866,\n",
       "       0.8047775 , 0.94182616, 0.97889227, 0.85607964, 0.89921516,\n",
       "       0.846906  , 0.9533382 , 0.9475043 , 0.748573  , 0.8228872 ,\n",
       "       0.98356843, 0.9641716 , 0.87830067, 0.98315954, 0.9045454 ,\n",
       "       0.7082689 , 0.8119158 , 0.86708534, 0.96958137, 0.9091909 ,\n",
       "       0.8523375 , 0.8426705 , 0.8207709 , 0.93178207, 0.8910214 ,\n",
       "       0.85006046, 0.8562236 , 0.89844596, 0.75855625, 0.94168663,\n",
       "       0.8675498 , 0.96986026, 0.7963692 , 0.97043824, 0.82307136,\n",
       "       0.93110615, 0.8761541 , 0.83224386, 0.96674645, 0.93874097,\n",
       "       0.87094784, 0.92092603, 0.8737205 , 0.84568787, 0.87084186,\n",
       "       0.8778458 , 0.9595309 , 0.74943745, 0.9650182 , 0.8931513 ,\n",
       "       0.93399173, 0.8676149 , 0.8035804 , 0.96100205, 0.8124046 ,\n",
       "       0.9340765 , 0.8513237 , 0.80452234, 0.7811812 , 0.8862966 ,\n",
       "       0.80032855, 0.89902985, 0.93251055, 0.74388826, 0.97390217,\n",
       "       0.8489227 , 0.8711551 , 0.93134487, 0.8592395 , 0.94578093,\n",
       "       0.9535389 , 0.76242846, 0.8209123 , 0.7946924 , 0.76993704,\n",
       "       0.8657864 , 0.8704462 , 0.9614698 , 0.9100446 , 0.93893117,\n",
       "       0.9740148 , 0.9486172 , 0.97700465, 0.86315024, 0.910039  ,\n",
       "       0.9673689 , 0.9494919 , 0.88205874, 0.9686628 , 0.8705563 ,\n",
       "       0.80051726, 0.9679263 , 0.8172178 , 0.95986843, 0.9331266 ,\n",
       "       0.8601829 , 0.9059439 , 0.8998006 , 0.829541  , 0.86596245,\n",
       "       0.9586659 , 0.7807833 , 0.859791  , 0.82898986, 0.87179494,\n",
       "       0.8495188 , 0.85129845, 0.8546215 , 0.8396549 , 0.8476138 ,\n",
       "       0.70877904, 0.814365  , 0.9198632 , 0.9843812 , 0.80209506,\n",
       "       0.97289956, 0.81500334, 0.86088836, 0.8106883 , 0.9497434 ,\n",
       "       0.83114547, 0.8056939 , 0.82770646, 0.9367253 , 0.8949185 ,\n",
       "       0.96339756, 0.8014562 , 0.8949764 , 0.8343192 , 0.99156684,\n",
       "       0.8324722 , 0.83334035, 0.94965   , 0.91135424, 0.9403196 ,\n",
       "       0.8365285 , 0.85829747, 0.9687687 , 0.846216  , 0.9775641 ,\n",
       "       0.90653056, 0.8750911 , 0.950609  , 0.904859  , 0.9080164 ,\n",
       "       0.7631769 , 0.8359404 , 0.95316994, 0.9549835 , 0.9159002 ,\n",
       "       0.9008614 , 0.8119339 , 0.9491084 , 0.86354226, 0.8461676 ,\n",
       "       0.92655796, 0.97629076, 0.97074586, 0.829183  , 0.8313908 ,\n",
       "       0.9877047 , 0.9733248 , 0.8302886 , 0.9399272 , 0.84955156,\n",
       "       0.76210606, 0.83094716, 0.9655634 , 0.92505944, 0.87992144,\n",
       "       0.97314596, 0.8967562 , 0.8307211 , 0.9835132 , 0.8493821 ,\n",
       "       0.9855536 , 0.8489195 , 0.9681293 , 0.7789735 , 0.79854065,\n",
       "       0.96714973, 0.81801915, 0.85488915, 0.83443534, 0.84199566,\n",
       "       0.7638942 , 0.8641125 , 0.810015  , 0.8920716 , 0.93108755,\n",
       "       0.85500306, 0.85101026, 0.90844685, 0.8512706 , 0.88804495,\n",
       "       0.8629587 , 0.9514384 , 0.89700365, 0.9302424 , 0.95071906,\n",
       "       0.91551274, 0.89125377, 0.9591792 , 0.8396229 , 0.97505987,\n",
       "       0.8348076 , 0.8987568 , 0.81491894, 0.82404584, 0.8761029 ,\n",
       "       0.8742159 , 0.9780912 , 0.82764924, 0.8835313 , 0.9793667 ,\n",
       "       0.92673504, 0.84022593, 0.8309449 , 0.9711581 , 0.905407  ,\n",
       "       0.8902429 , 0.91439617, 0.8528966 , 0.8775978 , 0.90179443,\n",
       "       0.80483   , 0.88465   , 0.84468704, 0.831973  , 0.75826657,\n",
       "       0.95184183, 0.96083695, 0.7947171 , 0.8058083 , 0.85763204,\n",
       "       0.7773038 , 0.95069623, 0.9219321 , 0.9072777 , 0.97755706,\n",
       "       0.94741344, 0.9529405 , 0.8924152 , 0.8165307 , 0.9663236 ,\n",
       "       0.9267722 , 0.8296967 , 0.9311844 , 0.9348906 , 0.9323409 ,\n",
       "       0.87480587, 0.9540313 , 0.70940113, 0.77484614, 0.952256  ,\n",
       "       0.9516733 , 0.9106561 , 0.8426012 , 0.9753018 , 0.84761906,\n",
       "       0.942118  , 0.7276575 , 0.8690222 , 0.9456307 , 0.87460876,\n",
       "       0.8729826 , 0.7754886 , 0.9367028 , 0.8534336 , 0.94199485,\n",
       "       0.8683229 , 0.8214875 , 0.8043926 , 0.9834008 , 0.90180606,\n",
       "       0.8497319 , 0.9779693 , 0.82637036, 0.979684  , 0.9576674 ,\n",
       "       0.8308084 , 0.9600224 , 0.9125697 , 0.90340745, 0.83715165,\n",
       "       0.8825135 , 0.80207735, 0.99061   , 0.80560887, 0.79375046,\n",
       "       0.8232312 , 0.8748009 , 0.8282792 , 0.95830816, 0.91659623,\n",
       "       0.82771593, 0.8970944 , 0.93468314, 0.9512637 , 0.9806886 ,\n",
       "       0.93492824, 0.96309817, 0.8805608 , 0.9704503 , 0.9082758 ,\n",
       "       0.8663833 , 0.8939569 , 0.97893107, 0.85023946, 0.97597957,\n",
       "       0.8982706 , 0.95024776, 0.9270801 , 0.95101064, 0.88487256,\n",
       "       0.91164273, 0.96771294, 0.8093402 , 0.9769558 , 0.92292565,\n",
       "       0.83154315, 0.80996364, 0.8862147 , 0.9442511 , 0.92857856,\n",
       "       0.95939   , 0.93837553, 0.9237353 , 0.9537337 , 0.9403571 ,\n",
       "       0.85868144, 0.9658511 , 0.83788705, 0.92199266, 0.8459504 ,\n",
       "       0.8489619 , 0.94192684, 0.8073027 , 0.9277845 , 0.8771419 ,\n",
       "       0.9725188 , 0.89962906, 0.8063234 , 0.93472695, 0.8569737 ,\n",
       "       0.9833326 , 0.7906488 , 0.8531521 , 0.9430338 , 0.87211114,\n",
       "       0.8554644 , 0.84074336, 0.9070691 , 0.9500644 , 0.8677291 ,\n",
       "       0.9541347 , 0.8489204 , 0.8971207 , 0.81838036, 0.8682808 ,\n",
       "       0.97781104, 0.8991365 , 0.82806754, 0.93172526, 0.9725575 ,\n",
       "       0.92876786, 0.9342071 , 0.95260453, 0.85677135, 0.7896656 ,\n",
       "       0.86200553, 0.89166397, 0.8504546 , 0.94183695, 0.88841   ,\n",
       "       0.9624504 , 0.8790927 , 0.8474421 , 0.98621094, 0.8842599 ,\n",
       "       0.9665959 , 0.9264471 , 0.85787565, 0.8445988 , 0.883774  ,\n",
       "       0.9834276 , 0.9516411 , 0.8718763 , 0.8808972 , 0.83203375,\n",
       "       0.8304403 , 0.8856062 , 0.83963937, 0.8616373 , 0.8945355 ,\n",
       "       0.82787013, 0.9115584 , 0.8373667 , 0.86947954, 0.9024571 ,\n",
       "       0.88501924, 0.91768205, 0.91700655, 0.96819127, 0.88995284,\n",
       "       0.81134886, 0.8687518 , 0.9511886 , 0.89079756, 0.89106506,\n",
       "       0.9495509 , 0.846478  , 0.84319496, 0.90008664, 0.9681818 ,\n",
       "       0.90725213, 0.9838963 , 0.92758644, 0.976937  , 0.88390243,\n",
       "       0.77294636, 0.84102094, 0.873695  , 0.9308869 , 0.9770039 ,\n",
       "       0.83362347, 0.94186336, 0.87663937, 0.8396378 , 0.9582176 ,\n",
       "       0.9702282 , 0.75855047, 0.97193795, 0.88388747, 0.92242503,\n",
       "       0.9753458 , 0.83124745, 0.9404235 , 0.9036107 , 0.81283164,\n",
       "       0.7759431 , 0.9211132 , 0.97674495, 0.979244  , 0.8880691 ,\n",
       "       0.8879737 , 0.9419815 , 0.9601353 , 0.88975996, 0.9773165 ,\n",
       "       0.7094836 , 0.9620833 , 0.93343306, 0.9617757 , 0.9889623 ,\n",
       "       0.93961984, 0.8535678 , 0.9551696 , 0.96447426, 0.9672871 ,\n",
       "       0.8766782 , 0.9840909 , 0.908706  , 0.9085904 , 0.9432724 ,\n",
       "       0.8917865 , 0.9230285 , 0.88972723, 0.87555826, 0.980024  ,\n",
       "       0.8482971 , 0.98218036, 0.95196134, 0.9444622 , 0.9203924 ,\n",
       "       0.95558435, 0.7983464 , 0.87815017, 0.85632104, 0.9755222 ,\n",
       "       0.78755116, 0.93008626, 0.92458856, 0.94491345, 0.98438835,\n",
       "       0.8084509 , 0.88217485, 0.7294282 , 0.96506023, 0.8529728 ,\n",
       "       0.8765813 , 0.8393994 , 0.81121737, 0.9139464 , 0.9191132 ,\n",
       "       0.9399969 , 0.88725525, 0.93197745, 0.9421464 , 0.953226  ,\n",
       "       0.84319776, 0.981052  , 0.85738015, 0.87348825, 0.9864784 ,\n",
       "       0.815846  , 0.85579246, 0.87786776, 0.89280534, 0.89559495,\n",
       "       0.8796781 , 0.915982  , 0.9778277 , 0.9821848 , 0.9024554 ,\n",
       "       0.8894585 , 0.95455784, 0.8270717 , 0.94884294, 0.8443605 ,\n",
       "       0.9746451 , 0.9527314 , 0.9653839 , 0.86261135, 0.8624834 ,\n",
       "       0.800843  , 0.8939451 , 0.87161934, 0.87808317, 0.96708065,\n",
       "       0.9731392 , 0.8013224 , 0.9707788 , 0.8522694 , 0.7906305 ,\n",
       "       0.8538858 , 0.8671397 , 0.97460485, 0.98337334, 0.96529865,\n",
       "       0.9516348 , 0.9873804 , 0.94325405, 0.90891975, 0.8865803 ,\n",
       "       0.97440517, 0.97208285, 0.9850388 , 0.87389827, 0.98215544,\n",
       "       0.92180264, 0.70877826, 0.880133  , 0.97446173, 0.89225   ,\n",
       "       0.89469445, 0.98480916, 0.86786556, 0.8462667 , 0.88973856,\n",
       "       0.80147445, 0.97684467, 0.85142165, 0.94108653, 0.84285605,\n",
       "       0.8663672 , 0.9372046 , 0.88892144, 0.9140737 , 0.8928013 ,\n",
       "       0.96553993, 0.9690515 , 0.8917285 , 0.8186151 , 0.94773644,\n",
       "       0.9192524 , 0.8290179 , 0.897249  , 0.79351985, 0.9521113 ,\n",
       "       0.80243105, 0.8890709 , 0.9805787 , 0.86913306, 0.9510531 ,\n",
       "       0.9903961 , 0.9372256 , 0.9467385 , 0.87892455, 0.7364305 ,\n",
       "       0.89492255, 0.8388577 , 0.9597973 , 0.87584835, 0.8251515 ,\n",
       "       0.981579  , 0.89581925, 0.86550146, 0.9089788 , 0.7938041 ,\n",
       "       0.7542652 , 0.9528525 , 0.96674645, 0.9126709 , 0.84958583,\n",
       "       0.9366737 , 0.7658265 , 0.8539848 , 0.9746811 , 0.8412693 ,\n",
       "       0.8861208 , 0.912125  , 0.75904197, 0.8643807 , 0.8802776 ,\n",
       "       0.8593214 , 0.85803705, 0.8955742 , 0.7971763 , 0.91393185,\n",
       "       0.93773115, 0.8886799 , 0.8727147 , 0.8822129 , 0.97284687,\n",
       "       0.8365715 , 0.87193847, 0.96083033, 0.8911187 , 0.756822  ,\n",
       "       0.8598781 , 0.8428297 , 0.8365619 , 0.932375  , 0.95456016,\n",
       "       0.9294269 , 0.7801478 , 0.89176446, 0.94338983, 0.90697294,\n",
       "       0.85973686, 0.91111994, 0.88781035, 0.79826707, 0.9755403 ,\n",
       "       0.8272311 , 0.957417  , 0.86931   , 0.7815639 , 0.99174666,\n",
       "       0.86518323, 0.8923841 , 0.94808424, 0.8614995 , 0.84414023,\n",
       "       0.98474884, 0.91828567, 0.8209474 , 0.9344853 , 0.8143092 ,\n",
       "       0.9308135 , 0.8750582 , 0.9101303 , 0.8413587 , 0.9764065 ,\n",
       "       0.92152965, 0.94259477, 0.969871  , 0.9343602 , 0.8235582 ,\n",
       "       0.94141716, 0.8148827 , 0.87912   ], dtype=float32)"
      ]
     },
     "execution_count": 26,
     "metadata": {},
     "output_type": "execute_result"
    }
   ],
   "source": [
    "auc_train_precision = auc_score(model_auc, train)\n",
    "auc_train_precision"
   ]
  },
  {
   "cell_type": "code",
   "execution_count": 27,
   "metadata": {},
   "outputs": [
    {
     "data": {
      "text/plain": [
       "(0.8913147, 0.8552065)"
      ]
     },
     "execution_count": 27,
     "metadata": {},
     "output_type": "execute_result"
    }
   ],
   "source": [
    "auc_train_precision = auc_score(model_auc, train).mean()\n",
    "auc_test_precision = auc_score(model_auc, test).mean()\n",
    "auc_train_precision, auc_test_precision"
   ]
  },
  {
   "cell_type": "code",
   "execution_count": 28,
   "metadata": {},
   "outputs": [
    {
     "data": {
      "text/plain": [
       "(0.61124074, 0.10965005)"
      ]
     },
     "execution_count": 28,
     "metadata": {},
     "output_type": "execute_result"
    }
   ],
   "source": [
    "top_train_precision = precision_at_k(model_top, train, k=10).mean()\n",
    "top_test_precision = precision_at_k(model_top, test, k=10).mean()\n",
    "top_train_precision, top_test_precision"
   ]
  },
  {
   "cell_type": "code",
   "execution_count": 29,
   "metadata": {},
   "outputs": [],
   "source": [
    "from lightfm.datasets import fetch_stackexchange\n",
    "\n",
    "data = fetch_stackexchange('crossvalidated',\n",
    "                           test_set_fraction=0.1,\n",
    "                           indicator_features=False,\n",
    "                           tag_features=True)"
   ]
  },
  {
   "cell_type": "code",
   "execution_count": 30,
   "metadata": {},
   "outputs": [
    {
     "data": {
      "text/plain": [
       "(<3221x72360 sparse matrix of type '<class 'numpy.float32'>'\n",
       " \twith 57830 stored elements in COOrdinate format>,\n",
       " <3221x72360 sparse matrix of type '<class 'numpy.float32'>'\n",
       " \twith 4307 stored elements in COOrdinate format>)"
      ]
     },
     "execution_count": 30,
     "metadata": {},
     "output_type": "execute_result"
    }
   ],
   "source": [
    "train, test = data['train'], data['test']\n",
    "train, test"
   ]
  },
  {
   "cell_type": "code",
   "execution_count": 31,
   "metadata": {},
   "outputs": [],
   "source": [
    "item_features = data[\"item_features\"]\n",
    "tag_labels = data['item_feature_labels']"
   ]
  },
  {
   "cell_type": "code",
   "execution_count": 32,
   "metadata": {},
   "outputs": [
    {
     "data": {
      "text/plain": [
       "array(['bayesian', 'prior', 'elicitation', ..., 'events', 'mutlivariate',\n",
       "       'sample-variance'], dtype='<U50')"
      ]
     },
     "execution_count": 32,
     "metadata": {},
     "output_type": "execute_result"
    }
   ],
   "source": [
    "tag_labels"
   ]
  },
  {
   "cell_type": "code",
   "execution_count": 33,
   "metadata": {},
   "outputs": [],
   "source": [
    "NUM_THREADS = 2\n",
    "NUM_COMPONENTS = 30\n",
    "NUM_EPOCHS = 3\n",
    "ITEM_ALPHA = 1e-6"
   ]
  },
  {
   "cell_type": "code",
   "execution_count": 34,
   "metadata": {},
   "outputs": [],
   "source": [
    "model = LightFM(loss='bpr', item_alpha=ITEM_ALPHA, no_components=NUM_COMPONENTS)\n",
    "model = model.fit(train, item_features=item_features, epochs=NUM_EPOCHS, num_threads=NUM_THREADS)"
   ]
  },
  {
   "cell_type": "code",
   "execution_count": 35,
   "metadata": {},
   "outputs": [
    {
     "data": {
      "text/plain": [
       "(0.8142137, 0.71949655)"
      ]
     },
     "execution_count": 35,
     "metadata": {},
     "output_type": "execute_result"
    }
   ],
   "source": [
    "train_auc = auc_score(model, train, item_features=item_features, num_threads=NUM_THREADS).mean()\n",
    "test_auc = auc_score(model, test, item_features=item_features, num_threads=NUM_THREADS).mean()\n",
    "train_auc, test_auc"
   ]
  },
  {
   "cell_type": "code",
   "execution_count": 36,
   "metadata": {},
   "outputs": [
    {
     "data": {
      "text/plain": [
       "33827"
      ]
     },
     "execution_count": 36,
     "metadata": {},
     "output_type": "execute_result"
    }
   ],
   "source": [
    "user_count = np.array(train.sum(axis=0)).ravel()\n",
    "np.sum(user_count == 0)"
   ]
  },
  {
   "cell_type": "code",
   "execution_count": 37,
   "metadata": {},
   "outputs": [],
   "source": [
    "t = model.predict(item_ids=np.ones(train.shape[0]) * (train.shape[1] - 1), user_ids=np.arange(train.shape[0]), item_features=item_features)"
   ]
  },
  {
   "cell_type": "code",
   "execution_count": 38,
   "metadata": {},
   "outputs": [
    {
     "data": {
      "text/plain": [
       "array([ 145,  159, 1689, ..., 2149, 1878,  375], dtype=int64)"
      ]
     },
     "execution_count": 38,
     "metadata": {},
     "output_type": "execute_result"
    }
   ],
   "source": [
    "t.argsort()"
   ]
  },
  {
   "cell_type": "code",
   "execution_count": 39,
   "metadata": {},
   "outputs": [
    {
     "name": "stdout",
     "output_type": "stream",
     "text": [
      "Most similar tags for bayesian: ['mcmc' 'bayes' 'prior']\n",
      "Most similar tags for regression: ['multiple-regression' 'multicollinearity' 'bic']\n",
      "Most similar tags for survival: ['kaplan-meier' 'cox-model' 'logrank']\n"
     ]
    }
   ],
   "source": [
    "def get_similar_tags(model, tag_id):\n",
    "    # Define similarity as the cosine of the angle\n",
    "    # between the tag latent vectors\n",
    "\n",
    "    # Normalize the vectors to unit length\n",
    "    tag_embeddings = (model.item_embeddings.T\n",
    "                      / np.linalg.norm(model.item_embeddings, axis=1)).T\n",
    "\n",
    "    query_embedding = tag_embeddings[tag_id]\n",
    "    similarity = np.dot(tag_embeddings, query_embedding)\n",
    "    most_similar = np.argsort(-similarity)[1:4]\n",
    "\n",
    "    return most_similar\n",
    "\n",
    "\n",
    "for tag in (u'bayesian', u'regression', u'survival'):\n",
    "    tag_id = tag_labels.tolist().index(tag)\n",
    "    print('Most similar tags for %s: %s' % (tag_labels[tag_id],\n",
    "                                            tag_labels[get_similar_tags(model, tag_id)]))"
   ]
  },
  {
   "cell_type": "code",
   "execution_count": null,
   "metadata": {},
   "outputs": [],
   "source": []
  }
 ],
 "metadata": {
  "kernelspec": {
   "display_name": "Python 3",
   "language": "python",
   "name": "python3"
  },
  "language_info": {
   "codemirror_mode": {
    "name": "ipython",
    "version": 3
   },
   "file_extension": ".py",
   "mimetype": "text/x-python",
   "name": "python",
   "nbconvert_exporter": "python",
   "pygments_lexer": "ipython3",
   "version": "3.6.5"
  }
 },
 "nbformat": 4,
 "nbformat_minor": 2
}
